{
 "cells": [
  {
   "cell_type": "markdown",
   "metadata": {},
   "source": [
    "# *Bresenham's Line Drawing Algorithm*"
   ]
  },
  {
   "cell_type": "markdown",
   "metadata": {},
   "source": [
    "*The Bresenham's line algorithm is an algorithm that determines which points in an `n-dimensional` raster should be plotted in order to form a close approximation to a straight line between two given points.<br>*\n",
    "*It is an incremental scan conversion algorithm that uses only integer calculations.*<br>\n",
    "*It is commonly used to draw lines on a computer screen, as it uses only integer addition, subtraction and bit shifting, all of which are very cheap operations in standard computer architectures.*"
   ]
  },
  {
   "cell_type": "markdown",
   "metadata": {},
   "source": [
    "## Steps"
   ]
  },
  {
   "cell_type": "markdown",
   "metadata": {},
   "source": [
    "*1. Input the Origin and End points<br>*\n",
    "*2. Calculate the change in `x` and `y` ie. `∆y...∆x` <br>*\n",
    "*3. Obtain the Decision Parameter `P∘` <br>*\n",
    "*4. Test if `P∘ < 0` then the next Coordinate will be `(X+1, Y)` and `P1 = P∘ + 2∆y`.<br> \n",
    "If not, `(X+1, Y+1)` and `P1 = P∘ + 2(∆y - ∆x)`.<br>*\n",
    "*5. Coordinate in 4 becomes New Origin.<br>*\n",
    "*6. Repeat using the `P1` as the new Decision Parameter.*"
   ]
  },
  {
   "cell_type": "markdown",
   "metadata": {},
   "source": [
    "##### Import 3rd Party Packages"
   ]
  },
  {
   "cell_type": "code",
   "execution_count": 1,
   "metadata": {},
   "outputs": [],
   "source": [
    "import numpy as np\n",
    "import matplotlib.pyplot as plt"
   ]
  },
  {
   "cell_type": "markdown",
   "metadata": {},
   "source": [
    "##### Input the Origin and End points"
   ]
  },
  {
   "cell_type": "code",
   "execution_count": 2,
   "metadata": {},
   "outputs": [
    {
     "name": "stdout",
     "output_type": "stream",
     "text": [
      "Original Pixel(x, y) \n",
      "x coordinate 20\n",
      "y coordinate 10\n",
      "\n",
      "\n",
      "Destinantion Pixel(j, k) \n",
      "j coordinate 30\n",
      "k coordinate 18\n"
     ]
    }
   ],
   "source": [
    "print(\"Original Pixel(x, y) \")\n",
    "x = int(input(\"x coordinate \"))\n",
    "y = int(input(\"y coordinate \"))\n",
    "\n",
    "print(\"\\n\\nDestinantion Pixel(j, k) \")\n",
    "j = int(input(\"j coordinate \"))\n",
    "k = int(input(\"k coordinate \"))"
   ]
  },
  {
   "cell_type": "markdown",
   "metadata": {},
   "source": [
    "##### Get the adjacent co-ordinates"
   ]
  },
  {
   "cell_type": "code",
   "execution_count": 3,
   "metadata": {},
   "outputs": [
    {
     "name": "stdout",
     "output_type": "stream",
     "text": [
      "Pixel 0 (20, 10) P0 is 6\n",
      "Pixel 1 (21, 11) P1 is 2\n",
      "Pixel 2 (22, 12) P2 is -2\n",
      "Pixel 3 (23, 12) P3 is 14\n",
      "Pixel 4 (24, 13) P4 is 10\n",
      "Pixel 5 (25, 14) P5 is 6\n",
      "Pixel 6 (26, 15) P6 is 2\n",
      "Pixel 7 (27, 16) P7 is -2\n",
      "Pixel 8 (28, 16) P8 is 14\n",
      "Pixel 9 (29, 17) P9 is 10\n",
      "Pixel 10 (30, 18) P10 is 6\n"
     ]
    }
   ],
   "source": [
    "count = 0\n",
    "axes = [[x, y]]\n",
    "\n",
    "#   Obtain change in x and change in y respectively\n",
    "dx = j - x\n",
    "dy = k - y\n",
    "\n",
    "#   Derive the Decision Parameter\n",
    "p = 2*dy - dx\n",
    "\n",
    "# Print the origin\n",
    "print(f'Pixel {count} ({x}, {y}) P{count} is {p}')\n",
    "#   Store the co-ordinates in a list - Axes\n",
    "while x != j and y != k:\n",
    "    if p < 0:\n",
    "        count += 1\n",
    "        x += 1\n",
    "        p = p + 2*dy\n",
    "        axes.append([x, y])\n",
    "        print(f'Pixel {count} ({x}, {y}) P{count} is {p}')\n",
    "\n",
    "    else:\n",
    "        count += 1\n",
    "        x += 1\n",
    "        y += 1\n",
    "        p = p + 2*(dy - dx)\n",
    "        axes.append([x, y])\n",
    "        print(f'Pixel {count} ({x}, {y}) P{count} is {p}')\n",
    "\n",
    "    "
   ]
  },
  {
   "cell_type": "markdown",
   "metadata": {},
   "source": [
    "## Visualization"
   ]
  },
  {
   "cell_type": "code",
   "execution_count": null,
   "metadata": {},
   "outputs": [],
   "source": []
  }
 ],
 "metadata": {
  "kernelspec": {
   "display_name": "Python 3",
   "language": "python",
   "name": "python3"
  },
  "language_info": {
   "codemirror_mode": {
    "name": "ipython",
    "version": 3
   },
   "file_extension": ".py",
   "mimetype": "text/x-python",
   "name": "python",
   "nbconvert_exporter": "python",
   "pygments_lexer": "ipython3",
   "version": "3.7.5"
  }
 },
 "nbformat": 4,
 "nbformat_minor": 2
}
